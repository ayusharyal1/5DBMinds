{
 "cells": [
  {
   "cell_type": "markdown",
   "metadata": {},
   "source": [
    "#### Team: 5DB Minds\n",
    "We have splitted the 6.2 GB JSON file into 1146 files for data handling convenience. The command for splitting is\n",
    "\n",
    "```split -l 1000 PlayStore_2015_07.json <dir_where_to_be_splitted>```"
   ]
  },
  {
   "cell_type": "code",
   "execution_count": null,
   "metadata": {
    "collapsed": true
   },
   "outputs": [],
   "source": [
    "import pandas as pd\n",
    "import os\n",
    "\n",
    "input_data = '../smallest/'\n",
    "\n",
    "#read them into pandas\n",
    "filelist = os.listdir(input_data)\n",
    "df = pd.DataFrame()\n",
    "\n",
    "for file_ in filelist:\n",
    "    print file_\n",
    "    # read the entire file into a python array\n",
    "    with open(input_data+file_, 'rb') as f:\n",
    "        line = f.readlines()\n",
    "    # remove the trailing \"\\n\" from each line\n",
    "    line = map(lambda x: x.rstrip(), line)\n",
    "    print line\n",
    "    #tmp = pd.read_json(input_data+file_)\n",
    "    #print tmp.head()\n",
    "\t\n",
    "    #df = df.append(tmp)"
   ]
  }
 ],
 "metadata": {
  "kernelspec": {
   "display_name": "Python 2",
   "language": "python",
   "name": "python2"
  },
  "language_info": {
   "codemirror_mode": {
    "name": "ipython",
    "version": 2
   },
   "file_extension": ".py",
   "mimetype": "text/x-python",
   "name": "python",
   "nbconvert_exporter": "python",
   "pygments_lexer": "ipython2",
   "version": "2.7.6"
  }
 },
 "nbformat": 4,
 "nbformat_minor": 0
}
