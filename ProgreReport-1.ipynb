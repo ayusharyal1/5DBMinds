{
 "cells": [
  {
   "cell_type": "markdown",
   "metadata": {},
   "source": [
    "### 5DBMinds"
   ]
  },
  {
   "cell_type": "markdown",
   "metadata": {},
   "source": [
    "\n",
    "    "
   ]
  },
  {
   "cell_type": "markdown",
   "metadata": {},
   "source": [
    "##### Project Title: \"Prediction of Google Apps' Rating Using Machine Learning\""
   ]
  },
  {
   "cell_type": "markdown",
   "metadata": {},
   "source": [
    "#### Project Update: \n",
    "Oct. 22, 2015"
   ]
  },
  {
   "cell_type": "markdown",
   "metadata": {},
   "source": [
    "\n",
    "#### Data Acquisition\n",
    "\n",
    "    1. 6.2 GB data collected from web source. Thanks to: The data source is: https://github.com/MarcelloLins/GooglePlayAppsCrawler\n",
    "    2. 1.5M App's details including rattings of the apps.\n",
    "    3. Data in JSON format.\n",
    "    \n",
    "#### Data Processing\n",
    "\n",
    "    1. Data Splitted using 'split' unix command into chunks of 1MB\n",
    "    \n",
    "        PROBLEM ENCOUNTRED == ?\n",
    "    \n",
    "        1. When splitting, JSON Objects i.e. a single JSON object are splitted into two chunks. While parsing JSON Object in a file, the splited JSON Object is missed????\n",
    "        \n",
    "            ---If missed, just ignore few splitted JSON Objects for ease.\n",
    "               OR Find some other ways to deal with the issue...\n",
    "    \n",
    "    2. Names of the Data Features:\n",
    "            \n",
    "            Application A ------>(n)Reviews:            \n",
    "                                    \"authorName\":\"Raquel Mobb916\"\n",
    "                                    \"reviewBody\":\"I wuz logged out with yn network error.. \n",
    "                                    \"reviewDate\":{\"$date\":\"2015-07-29T03:00:00.000Z\"}\n",
    "                                    \"reviewTitle\":\"\"\n",
    "                                    \"starRatings\":5\n",
    "                                    \"timestamp\":{\"$date\":\"2015-08-04T12:35:48.834Z\"\n",
    "                                    \n",
    "                                    \"Score: Count: 3.139642e+06\n",
    "                                            \"FiveStars\":2.232443e+06,\n",
    "                                             FourStars\":520583.0,\n",
    "                                            \"OneStars\":143628.0\n",
    "                                            \"ThreeStars\":169740.0\n",
    "                                            \"TwoStars\":73248.0\n",
    "             ...\n",
    "             \n",
    "            Application B ------->(n)Reviews:\n",
    "                                    \"authorName\":\"Raquel Mobb916\"\n",
    "                                    \"reviewBody\":\"I wuz logged out with yn network error.. \n",
    "                                    \"reviewDate\":{\"$date\":\"2015-07-29T03:00:00.000Z\"}\n",
    "                                    \"reviewTitle\":\"\"\n",
    "                                    \"starRatings\":5\n",
    "                                    \"timestamp\":{\"$date\":\"2015-08-04T12:35:48.834Z\"\n",
    "                                    \n",
    "                                    \"Score: Count: 3.139642e+06\n",
    "                                            \"FiveStars\":2.232443e+06,\n",
    "                                             FourStars\":520583.0,\n",
    "                                            \"OneStars\":143628.0\n",
    "                                            \"ThreeStars\":169740.0\n",
    "                                            \"TwoStars\":73248.0\n",
    "            \n",
    "    \n",
    "    3. Decided to use Supervised Machine Learning Algorithms for the Production. Why??? (Because we have complete labeled data)\n",
    "    \n",
    "   \n",
    "#### Team Communication\n",
    "    \n",
    "    1. TRELLO ( A Project Management and Team Communication Online Application.)\n",
    "\n",
    "\n",
    "#### Next ???\n",
    "\n",
    "\n",
    "            Step 1: Data Selection:  \n",
    "\n",
    "                   What data is available? \n",
    "\n",
    "                   What data is missing? \n",
    "\n",
    "                   What data can be removed?\n",
    "\n",
    "                               HOW ??? Python - Pandas\n",
    "\n",
    "            Step 2: Data Preprocessing: \n",
    "\n",
    "                --formatting, cleaning and  Normalization, Feature Correlation\n",
    "\n",
    "\n",
    "            Step 3: Feature Reduction, Decomposition and Aggregation\n",
    "\n",
    "            Step 4: Which Machine Learning Algorithm to use???\n",
    "\n",
    "                    Supervised Machine Learning Algorithms:\n",
    "\n",
    "            Step 5: Apply Possible Learning Algorithms and Measure the Prediction Error\n",
    "\n",
    "            Step 6: Use best possible alternative.\n",
    "\n",
    " \n",
    "#### Expected Artifacts:\n",
    "\n",
    "    1. Preprocessed Data for Replication\n",
    "    \n",
    "    2. Python Program Modules for prediction of app's rating given number of features f={f1, f2, f3,...} \n",
    "   \n",
    "    3. Documentation of Design of Learning Methods, tools, and Methodologies, future works.\n",
    "\n",
    "# Project Report-2\n",
    "\n",
    "1. No reviewers, how do you account during prediction if your app do not have reviews. \n",
    "    "
   ]
  },
  {
   "cell_type": "markdown",
   "metadata": {
    "collapsed": true
   },
   "source": [
    "### Thank you!!"
   ]
  }
 ],
 "metadata": {
  "kernelspec": {
   "display_name": "Python 2",
   "language": "python",
   "name": "python2"
  },
  "language_info": {
   "codemirror_mode": {
    "name": "ipython",
    "version": 2
   },
   "file_extension": ".py",
   "mimetype": "text/x-python",
   "name": "python",
   "nbconvert_exporter": "python",
   "pygments_lexer": "ipython2",
   "version": "2.7.5"
  }
 },
 "nbformat": 4,
 "nbformat_minor": 0
}
