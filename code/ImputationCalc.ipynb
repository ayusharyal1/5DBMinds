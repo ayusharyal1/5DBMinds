{
 "cells": [
  {
   "cell_type": "code",
   "execution_count": 1,
   "metadata": {
    "collapsed": false
   },
   "outputs": [
    {
     "ename": "SyntaxError",
     "evalue": "invalid syntax (<ipython-input-1-443ea2fb451a>, line 13)",
     "output_type": "error",
     "traceback": [
      "\u001b[0;36m  File \u001b[0;32m\"<ipython-input-1-443ea2fb451a>\"\u001b[0;36m, line \u001b[0;32m13\u001b[0m\n\u001b[0;31m    if strategy = \"mean\":\u001b[0m\n\u001b[0m                ^\u001b[0m\n\u001b[0;31mSyntaxError\u001b[0m\u001b[0;31m:\u001b[0m invalid syntax\n"
     ]
    }
   ],
   "source": [
    "import numpy as np\n",
    "\n",
    "from sklearn.preprocessing import Imputer\n",
    "\n",
    "'''\n",
    "missing_values is the value of your placeholder, \n",
    "strategy is if you'd like mean, median or mode, and axis=0 means\n",
    "it calculates the imputation based on the other feature values for that sample\n",
    "'''\n",
    "\n",
    "def fill_missing_values(X_missing, Y_missing, strategy=\"mean\"):\n",
    "\n",
    "    if strategy = \"mean\":        \n",
    "        app_imputer = Imputer(missing_values='NaN', strategy='mean', axis=0)\n",
    "    if strategy == \"median\":\n",
    "         app_imputer = Imputer(missing_values='NaN', strategy='median', axis=0)\n",
    "    if strategy == \"mode\":\n",
    "         app_imputer = Imputer(missing_values='NaN', strategy='mode', axis=0)\n",
    "            \n",
    "    app_imputer.fit(X_missing)\n",
    "    X_filled = app_imputer.transform(X_missing)\n",
    "    Y_filled = app_imputer.fit(Y_missing).transform(Y_missing)\n",
    "    return X_filled, Y_filled"
   ]
  }
 ],
 "metadata": {
  "kernelspec": {
   "display_name": "Python 2",
   "language": "python",
   "name": "python2"
  },
  "language_info": {
   "codemirror_mode": {
    "name": "ipython",
    "version": 2
   },
   "file_extension": ".py",
   "mimetype": "text/x-python",
   "name": "python",
   "nbconvert_exporter": "python",
   "pygments_lexer": "ipython2",
   "version": "2.7.10"
  }
 },
 "nbformat": 4,
 "nbformat_minor": 0
}
