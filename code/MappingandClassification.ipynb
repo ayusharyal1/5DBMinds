{
 "cells": [
  {
   "cell_type": "code",
   "execution_count": 101,
   "metadata": {
    "collapsed": false
   },
   "outputs": [],
   "source": [
    "import pandas as pd\n",
    "import numpy as np\n",
    "import string as str\n",
    "from os import listdir\n",
    "from os.path import isfile, join\n",
    "from  datetime import datetime\n",
    "from os import listdir\n",
    "from os.path import isfile, join"
   ]
  },
  {
   "cell_type": "code",
   "execution_count": null,
   "metadata": {
    "collapsed": false
   },
   "outputs": [
    {
     "name": "stdout",
     "output_type": "stream",
     "text": [
      "['big_data10.csv', 'big_data1.csv', 'big_data7.csv', 'big_data9.csv', 'big_data12.csv', 'big_data2.csv', 'big_data5.csv', 'big_data3.csv', 'big_data4.csv', 'big_data6.csv', 'big_data8.csv']\n",
      "100000\n",
      "100000\n",
      "100000\n",
      "100000\n",
      "45535\n",
      "100000\n",
      "100000\n",
      "100000"
     ]
    }
   ],
   "source": [
    "#single file\n",
    "#path='../data/big_data2.csv'\n",
    "#df= pd.read_csv(path,sep=',',header=0)\n",
    "\n",
    "#whole data\n",
    "dfs=[]\n",
    "path='../data/'\n",
    "onlyfiles = [ f for f in listdir(path) if isfile(join(path,f)) and f.endswith( 'csv' ) ]\n",
    "print onlyfiles\n",
    "for eachFile in onlyfiles:\n",
    "    path1='../data/'+eachFile\n",
    "    df1= pd.read_csv(path1,sep=',',header=0)\n",
    "    print df1.shape[0]\n",
    "    dfs.append(df1)\n",
    "df=pd.concat(dfs)\n",
    "df.shape[0]"
   ]
  },
  {
   "cell_type": "code",
   "execution_count": null,
   "metadata": {
    "collapsed": false
   },
   "outputs": [],
   "source": [
    "def mapBooleanColumns(x):\n",
    "    if x==True:\n",
    "        return 1\n",
    "    else:\n",
    "        return 0\n",
    "    \n",
    "def mappingScores(x):\n",
    "    if x>0 and x<=1:\n",
    "        return 1\n",
    "    elif x>1 and x<=2:\n",
    "        return 2\n",
    "    elif x>2 and x<=3:\n",
    "        return 3\n",
    "    elif x>3 and x<=4:\n",
    "        return 4\n",
    "    else:\n",
    "        return 5\n",
    "\n",
    "def mapDates(d):\n",
    "    d=d[:10]\n",
    "    d1= datetime.now()\n",
    "    d2=datetime.strptime(d, \"%Y-%m-%d\")\n",
    "    return (d1.year - d2.year)*12 + d1.month - d2.month    \n",
    "    \n",
    "def seperateInstallations(col_name):\n",
    "    return_data_type_as=None\n",
    "    ls = col_name.str.split('-').str.get(0).str.strip(' ').str.replace(',','') #series object\n",
    "    hs = col_name.str.split('-').str.get(1).str.strip(' ').str.replace(',','') #series object\n",
    "    ls = ls.astype(float).fillna(0.0)\n",
    "    hs = hs.astype(float).fillna(0.0)\n",
    "    return ls, hs"
   ]
  },
  {
   "cell_type": "code",
   "execution_count": null,
   "metadata": {
    "collapsed": false
   },
   "outputs": [],
   "source": [
    "df.IsTopDeveloper=map(mapBooleanColumns,df.IsTopDeveloper)\n",
    "df.HaveInAppPurchases=map(mapBooleanColumns,df.HaveInAppPurchases)\n",
    "df.IsFree=map(mapBooleanColumns,df.HaveInAppPurchases)\n",
    "df.Score=map(mappingScores,df.Score)\n",
    "df.PublicationDate=map(mapDates,df.PublicationDate)\n",
    "df.LastUpdateDate=map(mapDates,df.LastUpdateDate)\n",
    "df['minInstall'],df['maxInstall']=seperateInstallations(df.Instalations)"
   ]
  },
  {
   "cell_type": "code",
   "execution_count": 88,
   "metadata": {
    "collapsed": true
   },
   "outputs": [],
   "source": [
    "from sklearn.naive_bayes import BernoulliNB\n",
    "from sklearn.naive_bayes import GaussianNB\n",
    "from sklearn.naive_bayes import MultinomialNB\n",
    "from sklearn.cross_validation import train_test_split\n",
    "from sklearn.feature_extraction.text import TfidfVectorizer\n",
    "from sklearn.metrics import accuracy_score\n",
    "from sklearn import preprocessing"
   ]
  },
  {
   "cell_type": "code",
   "execution_count": 89,
   "metadata": {
    "collapsed": false
   },
   "outputs": [],
   "source": [
    "X=df[['Price','PublicationDate','AppSize','LastUpdateDate','IsFree','HaveInAppPurchases','minInstall','maxInstall']]\n",
    "y=np.ravel(df[['Score']])"
   ]
  },
  {
   "cell_type": "code",
   "execution_count": 97,
   "metadata": {
    "collapsed": false
   },
   "outputs": [
    {
     "name": "stdout",
     "output_type": "stream",
     "text": [
      "Classifier:GaussianNB() Accuracy Score:0.152250\n",
      "Classifier:BernoulliNB(alpha=1.0, binarize=0.0, class_prior=None, fit_prior=True) Accuracy Score:0.646200\n"
     ]
    }
   ],
   "source": [
    "classifiers = [GaussianNB(),BernoulliNB()]\n",
    "for clf in classifiers:\n",
    "        X_train, X_test, y_train, y_test = train_test_split(X, y, test_size=.4)\n",
    "        clf.fit(X_train,y_train)\n",
    "        y_pred=clf.predict(X_test)\n",
    "        print(\"Classifier:%s Accuracy Score:%f\"%(clf,accuracy_score(y_test,y_pred)))\n",
    "        #print(\"Number of mislabeled points out of a total %d points : %d\" % (X_test.shape[0],(y_test != y_pred).sum()))"
   ]
  },
  {
   "cell_type": "code",
   "execution_count": null,
   "metadata": {
    "collapsed": true
   },
   "outputs": [],
   "source": []
  }
 ],
 "metadata": {
  "kernelspec": {
   "display_name": "Python 2",
   "language": "python",
   "name": "python2"
  },
  "language_info": {
   "codemirror_mode": {
    "name": "ipython",
    "version": 2
   },
   "file_extension": ".py",
   "mimetype": "text/x-python",
   "name": "python",
   "nbconvert_exporter": "python",
   "pygments_lexer": "ipython2",
   "version": "2.7.6"
  }
 },
 "nbformat": 4,
 "nbformat_minor": 0
}
