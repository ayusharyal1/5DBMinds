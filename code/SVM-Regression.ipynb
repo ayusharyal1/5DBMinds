{
 "cells": [
  {
   "cell_type": "markdown",
   "metadata": {},
   "source": [
    "#### SVM Regression"
   ]
  },
  {
   "cell_type": "markdown",
   "metadata": {},
   "source": [
    "#### References:\n",
    "http://cs.adelaide.edu.au/~chhshen/teaching/ML_SVR.pdf\n",
    "kernelsvm.tripod.com"
   ]
  },
  {
   "cell_type": "code",
   "execution_count": 5,
   "metadata": {
    "collapsed": true
   },
   "outputs": [],
   "source": [
    "import numpy as np\n",
    "from sklearn.svm import SVR\n",
    "import matplotlib.pyplot as plt"
   ]
  },
  {
   "cell_type": "code",
   "execution_count": 55,
   "metadata": {
    "collapsed": false
   },
   "outputs": [],
   "source": [
    "# Fit regression model\n",
    "\n",
    "'''Create an object that holds SVR model object and the name of the model used.'''\n",
    "class Model_NAME():\n",
    "    \n",
    "    def __init__(self, svr_obj, name):\n",
    "        self.svr_model = svr_obj\n",
    "        self.name = name\n",
    "\n",
    "'''Evaluates three forms of SVR models on X and Y passed as param.'''\n",
    "\n",
    "def benchmark_SVR(list_models, x, y, n_samples=100):\n",
    "    X = x[0:n_samples]\n",
    "    Y = y[0:n_samples]\n",
    "    scores_list = []\n",
    "    for model_name in list_models:\n",
    "        svr_model = model_name.svr_model.fit(X,Y)        \n",
    "        row = [model_name.name, svr_model.score(X,Y) ]\n",
    "        scores_list.append(row)\n",
    "    print(\"Completed benchmark_svr \\n\")\n",
    "    return scores_list"
   ]
  },
  {
   "cell_type": "code",
   "execution_count": 57,
   "metadata": {
    "collapsed": false
   },
   "outputs": [
    {
     "name": "stdout",
     "output_type": "stream",
     "text": [
      "Completed benchmark_svr \n",
      "\n",
      "\trbf \t0.969182598854\n",
      "\tlinear \t0.880316057916\n",
      "\tpoly-deg-2 \t0.961207233983\n",
      "\tpoly-deg-3 \t0.965744442807\n",
      "\tsigmoid-3 \t-0.00355731281042\n"
     ]
    }
   ],
   "source": [
    "n_samples, n_features = 10, 5\n",
    "np.random.seed(0)\n",
    "Y = np.random.randn(n_samples)\n",
    "X = np.random.randn(n_samples, n_features)\n",
    "\n",
    "#Initialize the parameters for SVR models. We iteratively go on finding optimal epsilon and gamma values.\n",
    "C = 1e3\n",
    "gamma = 0.1\n",
    "degree = [2, 3]\n",
    "epsilon = 0.2\n",
    "max_iter = -1\n",
    "#create model objects  of different SVR models.\n",
    "svr_rbf = SVR(kernel = 'rbf', C=C, epsilon = epsilon, gamma=gamma, max_iter= max_iter)\n",
    "svr_lin = SVR(kernel = 'linear', C=C, epsilon = epsilon)\n",
    "svr_poly2 = SVR(kernel = 'poly', C=C, epsilon = epsilon, degree=degree[0])\n",
    "svr_poly3 = SVR(kernel = 'poly', C=C, epsilon = epsilon, degree=degree[1])\n",
    "svr_sigmoid = SVR(kernel = 'sigmoid', C=C, epsilon = epsilon)\n",
    "\n",
    "##Create objects of model_name class using above models.\n",
    "svr_rbf = Model_NAME(svr_rbf, \"rbf\")\n",
    "svr_linear = Model_NAME(svr_lin, \"linear\")\n",
    "svr_poly2 = Model_NAME(svr_poly2, \"poly-deg-2\")\n",
    "svr_poly3 = Model_NAME(svr_poly3, \"poly-deg-3\")\n",
    "svr_sigmoid = Model_NAME(svr_sigmoid, \"sigmoid-3\")\n",
    "\n",
    "list_models = [svr_rbf, svr_linear,svr_poly2, svr_poly3, svr_sigmoid]\n",
    "\n",
    "\n",
    "#Pass training set and testing set of X and Y\n",
    "\n",
    "for row in benchmark_SVR(list_models, X, Y, n_samples):\n",
    "    print(\"\\t\"),row[0], \"\\t\", row[1]"
   ]
  }
 ],
 "metadata": {
  "kernelspec": {
   "display_name": "Python 2",
   "language": "python",
   "name": "python2"
  },
  "language_info": {
   "codemirror_mode": {
    "name": "ipython",
    "version": 2
   },
   "file_extension": ".py",
   "mimetype": "text/x-python",
   "name": "python",
   "nbconvert_exporter": "python",
   "pygments_lexer": "ipython2",
   "version": "2.7.5"
  }
 },
 "nbformat": 4,
 "nbformat_minor": 0
}
