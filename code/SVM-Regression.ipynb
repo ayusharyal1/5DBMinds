{
 "cells": [
  {
   "cell_type": "code",
   "execution_count": null,
   "metadata": {
    "collapsed": true
   },
   "outputs": [],
   "source": [
    "#### SVM Regression"
   ]
  },
  {
   "cell_type": "markdown",
   "metadata": {},
   "source": [
    "#### References:\n",
    "http://cs.adelaide.edu.au/~chhshen/teaching/ML_SVR.pdf\n",
    "kernelsvm.tripod.com"
   ]
  },
  {
   "cell_type": "code",
   "execution_count": 5,
   "metadata": {
    "collapsed": true
   },
   "outputs": [],
   "source": [
    "import numpy as np\n",
    "from sklearn.svm import SVR\n",
    "import matplotlib.pyplot as plt"
   ]
  },
  {
   "cell_type": "code",
   "execution_count": 127,
   "metadata": {
    "collapsed": false
   },
   "outputs": [],
   "source": [
    "# Fit regression model\n",
    "\n",
    "'''Create an object that holds SVR model object and the name of the model used.'''\n",
    "class Model_NAME():\n",
    "    \n",
    "    def __init__(self, svr_obj, name):\n",
    "        self.svr_model = svr_obj\n",
    "        self.name = name\n",
    "\n",
    "'''Evaluates three forms of SVR models on X and Y passed as param and returns a list of R^2 defined as:\n",
    "The coefficient R^2 is defined as (1 - u/v), where u is the regression sum of\n",
    "squares ((y_true - y_pred) ** 2).sum() and v is the residual\n",
    "sum of squares ((y_true - y_true.mean()) ** 2).sum(). \n",
    "Best possible score is 1.0 and it can be negative (because the model can be arbitrarily worse). \n",
    "A constant model that always predicts the expected value of y, \n",
    "disregarding the input features, would get a R^2 score of 0.0.'''\n",
    "\n",
    "def benchmark_SVR(list_models, x, y, n_samples=100):\n",
    "    X = x[0:n_samples]\n",
    "    Y = y[0:n_samples]\n",
    "    print(\"X.shape, Y.shape \"), X.shape, Y.shape\n",
    "    scores_list = []\n",
    "    for model_name in list_models:\n",
    "        svr_model = model_name.svr_model.fit(X,Y)        \n",
    "        row = [model_name.name, svr_model.score(X,Y)]\n",
    "        scores_list.append(row)\n",
    "    print(\"Completed benchmark_svr \\n\")\n",
    "    return scores_list"
   ]
  },
  {
   "cell_type": "code",
   "execution_count": 63,
   "metadata": {
    "collapsed": true
   },
   "outputs": [],
   "source": [
    "#Read CSV\n",
    "import pandas as pd\n",
    "import numpy as np\n",
    "import os\n",
    "from pandas import DataFrame\n",
    "import numpy\n",
    "import sklearn\n",
    "import scipy as sp"
   ]
  },
  {
   "cell_type": "code",
   "execution_count": 122,
   "metadata": {
    "collapsed": false
   },
   "outputs": [
    {
     "data": {
      "text/html": [
       "<div>\n",
       "<table border=\"1\" class=\"dataframe\">\n",
       "  <thead>\n",
       "    <tr style=\"text-align: right;\">\n",
       "      <th></th>\n",
       "      <th>Unnamed: 0</th>\n",
       "      <th>Category</th>\n",
       "      <th>Score</th>\n",
       "      <th>Description</th>\n",
       "      <th>Price</th>\n",
       "      <th>PublicationDate</th>\n",
       "      <th>AppSize</th>\n",
       "      <th>Name</th>\n",
       "      <th>ContentRating</th>\n",
       "      <th>LastUpdateDate</th>\n",
       "      <th>Instalations</th>\n",
       "      <th>IsTopDeveloper</th>\n",
       "      <th>HaveInAppPurchases</th>\n",
       "      <th>IsFree</th>\n",
       "      <th>Developer</th>\n",
       "    </tr>\n",
       "  </thead>\n",
       "  <tbody>\n",
       "    <tr>\n",
       "      <th>0</th>\n",
       "      <td>0</td>\n",
       "      <td>NEWS_AND_MAGAZINES</td>\n",
       "      <td>5.000000</td>\n",
       "      <td>Read the most popular newspapers from  Sweden ...</td>\n",
       "      <td>0</td>\n",
       "      <td>2015-07-08T03:00:00.000Z</td>\n",
       "      <td>2.90000</td>\n",
       "      <td>Sweden News</td>\n",
       "      <td>Everyone 10+</td>\n",
       "      <td>2015-07-08T03:00:00.000Z</td>\n",
       "      <td>50 - 100</td>\n",
       "      <td>False</td>\n",
       "      <td>False</td>\n",
       "      <td>True</td>\n",
       "      <td>News Now</td>\n",
       "    </tr>\n",
       "    <tr>\n",
       "      <th>1</th>\n",
       "      <td>1</td>\n",
       "      <td>MEDIA_AND_VIDEO</td>\n",
       "      <td>2.882353</td>\n",
       "      <td>Sweden Tv channels guide. Tv Sweden include lo...</td>\n",
       "      <td>0</td>\n",
       "      <td>2015-07-25T03:00:00.000Z</td>\n",
       "      <td>2.80000</td>\n",
       "      <td>Tv Sweden</td>\n",
       "      <td>Everyone</td>\n",
       "      <td>2015-07-25T03:00:00.000Z</td>\n",
       "      <td>5,000 - 10,000</td>\n",
       "      <td>False</td>\n",
       "      <td>False</td>\n",
       "      <td>True</td>\n",
       "      <td>QSC</td>\n",
       "    </tr>\n",
       "    <tr>\n",
       "      <th>2</th>\n",
       "      <td>2</td>\n",
       "      <td>ENTERTAINMENT</td>\n",
       "      <td>4.133333</td>\n",
       "      <td>Enjoy the best radios of Sweden.</td>\n",
       "      <td>0</td>\n",
       "      <td>2015-07-18T03:00:00.000Z</td>\n",
       "      <td>12.00000</td>\n",
       "      <td>Radio Sweden</td>\n",
       "      <td>Everyone</td>\n",
       "      <td>2015-07-18T03:00:00.000Z</td>\n",
       "      <td>1,000 - 5,000</td>\n",
       "      <td>False</td>\n",
       "      <td>False</td>\n",
       "      <td>True</td>\n",
       "      <td>User One Studio</td>\n",
       "    </tr>\n",
       "    <tr>\n",
       "      <th>3</th>\n",
       "      <td>3</td>\n",
       "      <td>FINANCE</td>\n",
       "      <td>3.633564</td>\n",
       "      <td>In the Mobile bank app, you as a private Norde...</td>\n",
       "      <td>0</td>\n",
       "      <td>2015-07-06T03:00:00.000Z</td>\n",
       "      <td>3.10000</td>\n",
       "      <td>Nordea Mobile Bank – Sweden</td>\n",
       "      <td>Everyone</td>\n",
       "      <td>2015-07-06T03:00:00.000Z</td>\n",
       "      <td>500,000 - 1,000,000</td>\n",
       "      <td>False</td>\n",
       "      <td>False</td>\n",
       "      <td>True</td>\n",
       "      <td>Nordea Bank AB</td>\n",
       "    </tr>\n",
       "    <tr>\n",
       "      <th>4</th>\n",
       "      <td>4</td>\n",
       "      <td>MUSIC_AND_AUDIO</td>\n",
       "      <td>3.714286</td>\n",
       "      <td>Listen Sweden radio stations on your mobile.Fo...</td>\n",
       "      <td>0</td>\n",
       "      <td>2014-05-20T03:00:00.000Z</td>\n",
       "      <td>0.72168</td>\n",
       "      <td>RADIO SWEDEN</td>\n",
       "      <td>Unrated</td>\n",
       "      <td>2014-05-20T03:00:00.000Z</td>\n",
       "      <td>1,000 - 5,000</td>\n",
       "      <td>False</td>\n",
       "      <td>False</td>\n",
       "      <td>True</td>\n",
       "      <td>MoolApps</td>\n",
       "    </tr>\n",
       "  </tbody>\n",
       "</table>\n",
       "</div>"
      ],
      "text/plain": [
       "   Unnamed: 0            Category     Score  \\\n",
       "0           0  NEWS_AND_MAGAZINES  5.000000   \n",
       "1           1     MEDIA_AND_VIDEO  2.882353   \n",
       "2           2       ENTERTAINMENT  4.133333   \n",
       "3           3             FINANCE  3.633564   \n",
       "4           4     MUSIC_AND_AUDIO  3.714286   \n",
       "\n",
       "                                         Description  Price  \\\n",
       "0  Read the most popular newspapers from  Sweden ...      0   \n",
       "1  Sweden Tv channels guide. Tv Sweden include lo...      0   \n",
       "2                   Enjoy the best radios of Sweden.      0   \n",
       "3  In the Mobile bank app, you as a private Norde...      0   \n",
       "4  Listen Sweden radio stations on your mobile.Fo...      0   \n",
       "\n",
       "            PublicationDate   AppSize                         Name  \\\n",
       "0  2015-07-08T03:00:00.000Z   2.90000                  Sweden News   \n",
       "1  2015-07-25T03:00:00.000Z   2.80000                    Tv Sweden   \n",
       "2  2015-07-18T03:00:00.000Z  12.00000                 Radio Sweden   \n",
       "3  2015-07-06T03:00:00.000Z   3.10000  Nordea Mobile Bank – Sweden   \n",
       "4  2014-05-20T03:00:00.000Z   0.72168                 RADIO SWEDEN   \n",
       "\n",
       "  ContentRating            LastUpdateDate         Instalations IsTopDeveloper  \\\n",
       "0  Everyone 10+  2015-07-08T03:00:00.000Z             50 - 100          False   \n",
       "1      Everyone  2015-07-25T03:00:00.000Z       5,000 - 10,000          False   \n",
       "2      Everyone  2015-07-18T03:00:00.000Z        1,000 - 5,000          False   \n",
       "3      Everyone  2015-07-06T03:00:00.000Z  500,000 - 1,000,000          False   \n",
       "4       Unrated  2014-05-20T03:00:00.000Z        1,000 - 5,000          False   \n",
       "\n",
       "  HaveInAppPurchases IsFree        Developer  \n",
       "0              False   True         News Now  \n",
       "1              False   True              QSC  \n",
       "2              False   True  User One Studio  \n",
       "3              False   True   Nordea Bank AB  \n",
       "4              False   True         MoolApps  "
      ]
     },
     "execution_count": 122,
     "metadata": {},
     "output_type": "execute_result"
    }
   ],
   "source": [
    "app_file = '../data/big-data-csv.csv'\n",
    "appdf = pd.read_csv(app_file,sep=',')\n",
    "appdf.head(5)"
   ]
  },
  {
   "cell_type": "code",
   "execution_count": 165,
   "metadata": {
    "collapsed": false
   },
   "outputs": [],
   "source": [
    "\n",
    "#Initialize the parameters for SVR models. We iteratively go on finding optimal epsilon and gamma values.\n",
    "C = 1e3\n",
    "gamma = 0.1\n",
    "degree = [2, 3]\n",
    "epsilon = 0.2\n",
    "max_iter = 2\n",
    "#create model objects  of different SVR models.\n",
    "svr_rbf = SVR(kernel = 'rbf', C=C, epsilon = epsilon, gamma=gamma, max_iter = max_iter)\n",
    "svr_lin = SVR(kernel = 'linear', C=C, epsilon = epsilon)\n",
    "svr_poly2 = SVR(kernel = 'poly', C=C, epsilon = epsilon, degree=degree[0])\n",
    "svr_poly3 = SVR(kernel = 'poly', C=C, epsilon = epsilon, degree=degree[1])\n",
    "svr_sigmoid = SVR(kernel = 'sigmoid', C=C, epsilon = epsilon)\n",
    "\n",
    "##Create objects of model_name class using above models.\n",
    "mnsvr_rbf = Model_NAME(svr_rbf, \"rbf\")\n",
    "mnsvr_linear = Model_NAME(svr_lin, \"linear\")\n",
    "mnsvr_poly2 = Model_NAME(svr_poly2, \"poly-deg-2\")\n",
    "mnsvr_poly3 = Model_NAME(svr_poly3, \"poly-deg-3\")\n",
    "mnsvr_sigmoid = Model_NAME(svr_sigmoid, \"sigmoid-3\")\n",
    "\n",
    "list_models = [mnsvr_rbf, mnsvr_linear, mnsvr_poly2, mnsvr_poly3, mnsvr_sigmoid]"
   ]
  },
  {
   "cell_type": "code",
   "execution_count": 167,
   "metadata": {
    "collapsed": false
   },
   "outputs": [
    {
     "name": "stdout",
     "output_type": "stream",
     "text": [
      "X.shape, Y.shape  (1000, 1) (1000,)\n",
      "Completed benchmark_svr \n",
      "\n",
      "\trbf \t-17.6522378941\n",
      "\tlinear \t-0.0408400411665\n",
      "\tpoly-deg-2 \t-0.0400492604531\n",
      "\tpoly-deg-3 \t-0.0955169928975\n",
      "\tsigmoid-3 \t-0.043909441743\n",
      "['rbf', 'linear', 'poly-deg-2', 'poly-deg-3', 'sigmoid-3']\n",
      "[-17.652237894109881, -0.040840041166532171, -0.040049260453120628, -0.095516992897484387, -0.043909441742989941]\n"
     ]
    }
   ],
   "source": [
    "n_samples, n_features = 1000, 1\n",
    "\n",
    "##Initialize your regressors and targets here. Your Y must be an a ndarray with shape (n_samples,)\n",
    "\n",
    "#1. Generate X with all the features available. Generate a target as Y.\n",
    "\n",
    "#2. Specifically, divide training features into different divisions consisting of \n",
    "# different features. As below:\n",
    "\n",
    "    #a) X contain ALL the features\n",
    "    #b) X contain HIGHLY UNCORRELATED FEATURES FOR target variable  Y.\n",
    "    #c) X contain some features without Category.\n",
    "    #d) X contain some features without Description.\n",
    "    #e) X contain Category only\n",
    "    #f) X contain Description only. \n",
    "\n",
    "#3. For all of the above X, generate Training Set and Testing Sets of X and Y. Modify benchmark_SVR to return proper record. \n",
    "#4. Plot the Graph: Type_of_Data_Set_IN_X vs. R^2_of Different Models\n",
    "\n",
    "X = appdf.iloc[0:,[2]].values #for example\n",
    "Y = appdf.iloc[0:,6].values#for example\n",
    "'''#Mind this is a test data.\n",
    "    #For Example:\n",
    "    np.random.seed(0)\n",
    "    Y = np.random.randn(n_samples)\n",
    "    X = np.random.randn(n_samples, n_features)\n",
    "\n",
    "'''\n",
    "\n",
    "#Pass training set and testing set of X and Y\n",
    "results_list = benchmark_SVR(list_models, X, Y, n_samples)\n"
   ]
  },
  {
   "cell_type": "code",
   "execution_count": 178,
   "metadata": {
    "collapsed": false
   },
   "outputs": [
    {
     "name": "stdout",
     "output_type": "stream",
     "text": [
      "Score using rbf  = -17.65\n",
      "Score using linear  = -0.04\n",
      "Score using poly-deg-2  = -0.04\n",
      "Score using poly-deg-3  = -0.10\n",
      "Score using sigmoid-3  = -0.04\n",
      "\n",
      "['rbf', 'linear', 'poly-deg-2', 'poly-deg-3', 'sigmoid-3']\n",
      "\n",
      "[-17.652237894109881, -0.040840041166532171, -0.040049260453120628, -0.095516992897484387, -0.043909441742989941]\n"
     ]
    }
   ],
   "source": [
    "model_names = []\n",
    "score_values = []\n",
    "for row in results_list:\n",
    "    print(\"Score using %s  = %.2f\" % (row[0],row[1] ))\n",
    "    model_names.extend([row[0]])\n",
    "    score_values.extend([row[1]])\n",
    "print \n",
    "print model_names\n",
    "print\n",
    "print score_values\n",
    "\n",
    "#plot model_names vs score_values"
   ]
  },
  {
   "cell_type": "code",
   "execution_count": 179,
   "metadata": {
    "collapsed": false
   },
   "outputs": [
    {
     "name": "stdout",
     "output_type": "stream",
     "text": [
      "Features sorted by their score:\n",
      "[(1.0, 'RM'), (1.0, 'PTRATIO'), (1.0, 'LSTAT'), (0.63, 'CHAS'), (0.63, 'B'), (0.37, 'CRIM'), (0.345, 'TAX'), (0.215, 'NOX'), (0.215, 'DIS'), (0.13, 'INDUS'), (0.045, 'ZN'), (0.02, 'RAD'), (0.01, 'AGE')]\n"
     ]
    }
   ],
   "source": [
    "def bench_markRidgeLassorRLasso(estimator_list, x_train, y_train, x_test, y_test):\n",
    "    X_trn, Y_trn = x_train, y_train \n",
    "    X_tst, Y_tst = x_test, y_test\n",
    "    score_list = []\n",
    "    for estimator in estimator_list:\n",
    "        estimator.fit(x, y)\n",
    "        score_trm = estimator.score_\n",
    "        y_predicted = estimator.predict(X_tst)\n",
    "        \n",
    "    \n",
    "    \n",
    "lr = LinearRegression(normalize=True)\n",
    "lr.fit(X, Y)\n",
    "ranks[\"Linear reg\"] = rank_to_dict(np.abs(lr.coef_), names)\n",
    " \n",
    "ridge = Ridge(alpha=7)\n",
    "ridge.fit(X, Y)\n",
    "ranks[\"Ridge\"] = rank_to_dict(np.abs(ridge.coef_), names)\n",
    " \n",
    " \n",
    "lasso = Lasso(alpha=.05)\n",
    "lasso.fit(X, Y)\n",
    "ranks[\"Lasso\"] = rank_to_dict(np.abs(lasso.coef_), names)\n",
    " \n",
    " \n",
    "rlasso = RandomizedLasso(alpha=0.04)\n",
    "rlasso.fit(X, Y)\n",
    "ranks[\"Stability\"] = rank_to_dict(np.abs(rlasso.scores_), names)"
   ]
  }
 ],
 "metadata": {
  "kernelspec": {
   "display_name": "Python 2",
   "language": "python",
   "name": "python2"
  },
  "language_info": {
   "codemirror_mode": {
    "name": "ipython",
    "version": 2
   },
   "file_extension": ".py",
   "mimetype": "text/x-python",
   "name": "python",
   "nbconvert_exporter": "python",
   "pygments_lexer": "ipython2",
   "version": "2.7.5"
  }
 },
 "nbformat": 4,
 "nbformat_minor": 0
}
