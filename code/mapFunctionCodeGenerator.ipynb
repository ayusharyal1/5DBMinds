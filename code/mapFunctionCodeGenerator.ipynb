{
 "cells": [
  {
   "cell_type": "markdown",
   "metadata": {},
   "source": [
    "<b> This function can be used to generate code for a function that assigns numerical value to each unique element\n",
    "of a column of data frame. This could be used for categories and parental rating </b>"
   ]
  },
  {
   "cell_type": "code",
   "execution_count": 6,
   "metadata": {
    "collapsed": true
   },
   "outputs": [],
   "source": [
    "import pandas as pd\n",
    "import numpy as np\n",
    "import string as str\n",
    "from os import listdir\n",
    "from os.path import isfile, join\n",
    "from  datetime import datetime"
   ]
  },
  {
   "cell_type": "code",
   "execution_count": 7,
   "metadata": {
    "collapsed": false
   },
   "outputs": [
    {
     "name": "stdout",
     "output_type": "stream",
     "text": [
      "['big_data10.csv', 'big_data1.csv', 'big_data7.csv', 'big_data9.csv', 'big_data12.csv', 'big_data2.csv', 'big_data5.csv', 'big_data3.csv', 'big_data4.csv', 'big_data6.csv', 'big_data8.csv']\n"
     ]
    }
   ],
   "source": [
    "path='../data/'\n",
    "onlyfiles = [ f for f in listdir(path) if isfile(join(path,f)) and f.endswith( 'csv' ) ]\n",
    "print onlyfiles"
   ]
  },
  {
   "cell_type": "code",
   "execution_count": 10,
   "metadata": {
    "collapsed": false
   },
   "outputs": [],
   "source": [
    "uniqueCategories=[]\n",
    "uniqueContentRatings=[]\n",
    "uniqueDevlopers=[]\n",
    "\n",
    "for eachFile in onlyfiles:\n",
    "    path1='../data/'+eachFile\n",
    "    df= pd.read_csv(path1,sep=',',header=0)\n",
    "    \n",
    "    uniqueCategories.extend(np.unique(df.Category.values))\n",
    "    uniqueContentRatings.extend(np.unique(df.ContentRating.values))\n",
    "    uniqueDevlopers.extend(np.unique(df.Developer.values))\n",
    "    #print len(uniqueCategories)\n",
    "    #print len(uniqueContentRatings)\n",
    "    \n",
    "#print len(uniqueCategories)\n",
    "#print len(uniqueContentRatings)\n",
    "#print len(set(uniqueCategories))\n",
    "#print len(set(uniqueContentRatings))\n",
    " \n",
    "setCatgories=set(uniqueCategories)\n",
    "setContentRating=set(uniqueContentRatings)\n",
    "setDevelopers=set(uniqueDevlopers)"
   ]
  },
  {
   "cell_type": "code",
   "execution_count": 11,
   "metadata": {
    "collapsed": false
   },
   "outputs": [],
   "source": [
    "def generateFunction(setX,functionName):\n",
    "    i=0\n",
    "    print('def %s(x):'%functionName)\n",
    "    for x in setX:\n",
    "        if i==0:\n",
    "            print('\\tif (x==\\'%s\\'):\\n\\t\\treturn %d\\t'%(x,i))\n",
    "        else:\n",
    "            print('\\telif (x==\\'%s\\'):\\n\\t\\treturn %d\\t'%(x,i))\n",
    "        i=i+1"
   ]
  },
  {
   "cell_type": "code",
   "execution_count": 78,
   "metadata": {
    "collapsed": false
   },
   "outputs": [
    {
     "name": "stdout",
     "output_type": "stream",
     "text": [
      "def mapCategories(x):\n",
      "\tif (x=='LIBRARIES_AND_DEMO'):\n",
      "\t\treturn 0\t\n",
      "\telif (x=='GAME_RACING'):\n",
      "\t\treturn 1\t\n",
      "\telif (x=='BUSINESS'):\n",
      "\t\treturn 2\t\n",
      "\telif (x=='ENTERTAINMENT'):\n",
      "\t\treturn 3\t\n",
      "\telif (x=='MEDIA_AND_VIDEO'):\n",
      "\t\treturn 4\t\n",
      "\telif (x=='MEDICAL'):\n",
      "\t\treturn 5\t\n",
      "\telif (x=='GAME_SPORTS'):\n",
      "\t\treturn 6\t\n",
      "\telif (x=='BOOKS_AND_REFERENCE'):\n",
      "\t\treturn 7\t\n",
      "\telif (x=='GAME_EDUCATIONAL'):\n",
      "\t\treturn 8\t\n",
      "\telif (x=='MUSIC_AND_AUDIO'):\n",
      "\t\treturn 9\t\n",
      "\telif (x=='LIFESTYLE'):\n",
      "\t\treturn 10\t\n",
      "\telif (x=='GAME_PUZZLE'):\n",
      "\t\treturn 11\t\n",
      "\telif (x=='SHOPPING'):\n",
      "\t\treturn 12\t\n",
      "\telif (x=='FINANCE'):\n",
      "\t\treturn 13\t\n",
      "\telif (x=='GAME_CASINO'):\n",
      "\t\treturn 14\t\n",
      "\telif (x=='COMICS'):\n",
      "\t\treturn 15\t\n",
      "\telif (x=='PHOTOGRAPHY'):\n",
      "\t\treturn 16\t\n",
      "\telif (x=='TRAVEL_AND_LOCAL'):\n",
      "\t\treturn 17\t\n",
      "\telif (x=='GAME_WORD'):\n",
      "\t\treturn 18\t\n",
      "\telif (x=='GAME_TRIVIA'):\n",
      "\t\treturn 19\t\n",
      "\telif (x=='GAME_STRATEGY'):\n",
      "\t\treturn 20\t\n",
      "\telif (x=='PERSONALIZATION'):\n",
      "\t\treturn 21\t\n",
      "\telif (x=='GAME_CASUAL'):\n",
      "\t\treturn 22\t\n",
      "\telif (x=='WEATHER'):\n",
      "\t\treturn 23\t\n",
      "\telif (x=='GAME_ADVENTURE'):\n",
      "\t\treturn 24\t\n",
      "\telif (x=='GAME_ACTION'):\n",
      "\t\treturn 25\t\n",
      "\telif (x=='#'):\n",
      "\t\treturn 26\t\n",
      "\telif (x=='TRANSPORTATION'):\n",
      "\t\treturn 27\t\n",
      "\telif (x=='HEALTH_AND_FITNESS'):\n",
      "\t\treturn 28\t\n",
      "\telif (x=='PRODUCTIVITY'):\n",
      "\t\treturn 29\t\n",
      "\telif (x=='GAME_CARD'):\n",
      "\t\treturn 30\t\n",
      "\telif (x=='GAME_MUSIC'):\n",
      "\t\treturn 31\t\n",
      "\telif (x=='COMMUNICATION'):\n",
      "\t\treturn 32\t\n",
      "\telif (x=='GAME_ARCADE'):\n",
      "\t\treturn 33\t\n",
      "\telif (x=='GAME_ROLE_PLAYING'):\n",
      "\t\treturn 34\t\n",
      "\telif (x=='GAME_BOARD'):\n",
      "\t\treturn 35\t\n",
      "\telif (x=='SPORTS'):\n",
      "\t\treturn 36\t\n",
      "\telif (x=='GAME_SIMULATION'):\n",
      "\t\treturn 37\t\n",
      "\telif (x=='SOCIAL'):\n",
      "\t\treturn 38\t\n",
      "\telif (x=='EDUCATION'):\n",
      "\t\treturn 39\t\n",
      "\telif (x=='TOOLS'):\n",
      "\t\treturn 40\t\n",
      "\telif (x=='NEWS_AND_MAGAZINES'):\n",
      "\t\treturn 41\t\n"
     ]
    }
   ],
   "source": [
    "generateFunction(setCatgories,'mapCategories')"
   ]
  },
  {
   "cell_type": "code",
   "execution_count": 75,
   "metadata": {
    "collapsed": false
   },
   "outputs": [
    {
     "name": "stdout",
     "output_type": "stream",
     "text": [
      "def mapContentRating(x):\n",
      "\tif (x=='Teen'):\n",
      "\t\treturn 0\t\n",
      "\telif (x=='Adults only 18+'):\n",
      "\t\treturn 1\t\n",
      "\telif (x=='Everyone'):\n",
      "\t\treturn 2\t\n",
      "\telif (x=='Rated 18+'):\n",
      "\t\treturn 3\t\n",
      "\telif (x=='Parental guidance'):\n",
      "\t\treturn 4\t\n",
      "\telif (x=='Rated 12+'):\n",
      "\t\treturn 5\t\n",
      "\telif (x=='Rated for 18+'):\n",
      "\t\treturn 6\t\n",
      "\telif (x=='Rated for 7+'):\n",
      "\t\treturn 7\t\n",
      "\telif (x=='Mature 17+'):\n",
      "\t\treturn 8\t\n",
      "\telif (x=='All ages'):\n",
      "\t\treturn 9\t\n",
      "\telif (x=='Unrated'):\n",
      "\t\treturn 10\t\n",
      "\telif (x=='Everyone 10+'):\n",
      "\t\treturn 11\t\n",
      "\telif (x=='Rated for 12+'):\n",
      "\t\treturn 12\t\n",
      "\telif (x=='PEGI 18'):\n",
      "\t\treturn 13\t\n",
      "\telif (x=='PEGI 7'):\n",
      "\t\treturn 14\t\n",
      "\telif (x=='PEGI 16'):\n",
      "\t\treturn 15\t\n",
      "\telif (x=='Rated for 16+'):\n",
      "\t\treturn 16\t\n",
      "\telif (x=='Rated for 3+'):\n",
      "\t\treturn 17\t\n",
      "\telif (x=='PEGI 3'):\n",
      "\t\treturn 18\t\n",
      "\telif (x=='PEGI 12'):\n",
      "\t\treturn 19\t\n"
     ]
    }
   ],
   "source": [
    "generateFunction(setContentRating,'mapContentRating')"
   ]
  },
  {
   "cell_type": "code",
   "execution_count": 12,
   "metadata": {
    "collapsed": false
   },
   "outputs": [
    {
     "name": "stdout",
     "output_type": "stream",
     "text": [
      "def mapContentRating(x):\n",
      "\tif (x=='Teen'):\n",
      "\t\treturn 0\t\n",
      "\telif (x=='Adults only 18+'):\n",
      "\t\treturn 1\t\n",
      "\telif (x=='Everyone'):\n",
      "\t\treturn 2\t\n",
      "\telif (x=='Rated 18+'):\n",
      "\t\treturn 3\t\n",
      "\telif (x=='Parental guidance'):\n",
      "\t\treturn 4\t\n",
      "\telif (x=='Rated 12+'):\n",
      "\t\treturn 5\t\n",
      "\telif (x=='Rated for 18+'):\n",
      "\t\treturn 6\t\n",
      "\telif (x=='Rated for 7+'):\n",
      "\t\treturn 7\t\n",
      "\telif (x=='Mature 17+'):\n",
      "\t\treturn 8\t\n",
      "\telif (x=='All ages'):\n",
      "\t\treturn 9\t\n",
      "\telif (x=='Unrated'):\n",
      "\t\treturn 10\t\n",
      "\telif (x=='Everyone 10+'):\n",
      "\t\treturn 11\t\n",
      "\telif (x=='Rated for 12+'):\n",
      "\t\treturn 12\t\n",
      "\telif (x=='PEGI 18'):\n",
      "\t\treturn 13\t\n",
      "\telif (x=='PEGI 7'):\n",
      "\t\treturn 14\t\n",
      "\telif (x=='PEGI 16'):\n",
      "\t\treturn 15\t\n",
      "\telif (x=='Rated for 16+'):\n",
      "\t\treturn 16\t\n",
      "\telif (x=='Rated for 3+'):\n",
      "\t\treturn 17\t\n",
      "\telif (x=='PEGI 3'):\n",
      "\t\treturn 18\t\n",
      "\telif (x=='PEGI 12'):\n",
      "\t\treturn 19\t\n"
     ]
    }
   ],
   "source": [
    "generateFunction(setContentRating,'mapContentRating')"
   ]
  },
  {
   "cell_type": "code",
   "execution_count": null,
   "metadata": {
    "collapsed": true
   },
   "outputs": [],
   "source": []
  }
 ],
 "metadata": {
  "kernelspec": {
   "display_name": "Python 2",
   "language": "python",
   "name": "python2"
  },
  "language_info": {
   "codemirror_mode": {
    "name": "ipython",
    "version": 2
   },
   "file_extension": ".py",
   "mimetype": "text/x-python",
   "name": "python",
   "nbconvert_exporter": "python",
   "pygments_lexer": "ipython2",
   "version": "2.7.6"
  }
 },
 "nbformat": 4,
 "nbformat_minor": 0
}
